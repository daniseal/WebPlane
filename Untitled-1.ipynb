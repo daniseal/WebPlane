{
 "cells": [
  {
   "cell_type": "code",
   "execution_count": 1,
   "metadata": {},
   "outputs": [
    {
     "name": "stdout",
     "output_type": "stream",
     "text": [
      "True\n",
      "False\n"
     ]
    }
   ],
   "source": [
    "class Nodo:\n",
    "    def __init__(self, valor):\n",
    "        self.valor = valor\n",
    "        self.next = None\n",
    "\n",
    "def tiene_ciclo(head):\n",
    "    # Usamos dos punteros: lento y rápido\n",
    "    lento = head\n",
    "    rapido = head\n",
    "    \n",
    "    # Iteramos mientras el puntero rápido y su siguiente no sean None\n",
    "    while rapido is not None and rapido.next is not None:\n",
    "        lento = lento.next           # Avanza un paso\n",
    "        rapido = rapido.next.next    # Avanza dos pasos\n",
    "        \n",
    "        # Si los dos punteros se encuentran, hay un ciclo\n",
    "        if lento == rapido:\n",
    "            return True\n",
    "    \n",
    "    # Si el bucle se rompe, no hay ciclo\n",
    "    return False\n",
    "\n",
    "\n",
    "# Crear nodos de ejemplo\n",
    "nodo1 = Nodo(1)\n",
    "nodo2 = Nodo(2)\n",
    "nodo3 = Nodo(3)\n",
    "nodo4 = Nodo(4)\n",
    "\n",
    "# Crear una lista enlazada con ciclo\n",
    "nodo1.next = nodo2\n",
    "nodo2.next = nodo3\n",
    "nodo3.next = nodo4\n",
    "nodo4.next = nodo2  # Crea un ciclo (nodo4 apunta a nodo2)\n",
    "\n",
    "# Verificar si la lista tiene un ciclo\n",
    "print(tiene_ciclo(nodo1))  # Salida: True\n",
    "\n",
    "# Crear una lista sin ciclo\n",
    "nodo4.next = None  # Rompe el ciclo\n",
    "\n",
    "# Verificar si la lista tiene un ciclo\n",
    "print(tiene_ciclo(nodo1))  # Salida: False\n"
   ]
  }
 ],
 "metadata": {
  "kernelspec": {
   "display_name": "base",
   "language": "python",
   "name": "python3"
  },
  "language_info": {
   "codemirror_mode": {
    "name": "ipython",
    "version": 3
   },
   "file_extension": ".py",
   "mimetype": "text/x-python",
   "name": "python",
   "nbconvert_exporter": "python",
   "pygments_lexer": "ipython3",
   "version": "3.12.4"
  }
 },
 "nbformat": 4,
 "nbformat_minor": 2
}
